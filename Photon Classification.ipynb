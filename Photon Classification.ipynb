{
 "cells": [
  {
   "cell_type": "markdown",
   "metadata": {},
   "source": [
    "# Photon Classification\n",
    "\n",
    "Photons in this analysis are identified using photon ID variables. However, other particles can also pass this ID. For example, a boosted jet can decay into two photons in such a way that they overlap within the resolution of the detector, mimicking a single photon signature and causing the jet to be misidentified as a (\"fake\") photon.\n",
    "\n",
    "We want to classify all particles passing the photon ID as either _real_ or _fake_:\n",
    "- Real photons ($y=0$)\n",
    "- Fake photons ($y=1$)"
   ]
  },
  {
   "cell_type": "code",
   "execution_count": 1,
   "metadata": {},
   "outputs": [
    {
     "name": "stderr",
     "output_type": "stream",
     "text": [
      "Using TensorFlow backend.\n",
      "/Users/abuccilli/anaconda3/envs/photon-classification-keras/lib/python3.7/importlib/_bootstrap.py:219: RuntimeWarning: compiletime version 3.6 of module 'tensorflow.python.framework.fast_tensor_util' does not match runtime version 3.7\n",
      "  return f(*args, **kwds)\n"
     ]
    }
   ],
   "source": [
    "import numpy as np\n",
    "import pandas as pd\n",
    "import matplotlib.pyplot as plt\n",
    "from matplotlib.lines import Line2D\n",
    "import seaborn as sns\n",
    "#from scipy import stats\n",
    "import sklearn\n",
    "import sklearn.linear_model\n",
    "from sklearn import preprocessing\n",
    "from sklearn.neural_network import MLPClassifier\n",
    "from keras import Sequential\n",
    "from keras.layers import Dense"
   ]
  },
  {
   "cell_type": "markdown",
   "metadata": {},
   "source": [
    "## ROOT Data Format\n",
    "\n",
    "The data has been initially processed using the [CERN ROOT data analysis frame work](https://root.cern.ch) and is stored in trees using its TTree() data structure. Observe the following tree->branch->leaf format.\n",
    "\n",
    "<img src=\"images/root_tree_browser.png\" style=\"width:400px;height:400px;\">\n",
    "<caption><center> <u>Figure 1 </u>: ROOT TTree structure <br> </center></caption>\n",
    "\n",
    "This will be converted into a pandas DataFrame using [root_pandas](https://github.com/scikit-hep/root_pandas)."
   ]
  },
  {
   "cell_type": "code",
   "execution_count": 2,
   "metadata": {},
   "outputs": [
    {
     "name": "stdout",
     "output_type": "stream",
     "text": [
      "Welcome to JupyROOT 6.16/00\n"
     ]
    },
    {
     "name": "stderr",
     "output_type": "stream",
     "text": [
      "/Users/abuccilli/anaconda3/envs/photon-classification-keras/lib/python3.7/site-packages/root_numpy/__init__.py:46: RuntimeWarning: numpy 1.16.4 is currently installed but you installed root_numpy against numpy 1.9.3. Please consider reinstalling root_numpy for this numpy version.\n",
      "  RuntimeWarning)\n"
     ]
    }
   ],
   "source": [
    "#import ROOT\n",
    "from root_pandas import read_root"
   ]
  },
  {
   "cell_type": "markdown",
   "metadata": {},
   "source": [
    "## Simulated Data\n",
    "\n",
    "The dataset has been constructed using Monte Carlo simulation. The particle collisions and interactions have been generated using [PYTHIA 8](http://home.thep.lu.se/~torbjorn/Pythia.html) and simulated through the [CMS detector](https://cms.cern) using [Geant4](https://geant4.web.cern.ch). This simulation allows us to label all particles passing the photon ID as either real or fake. Note, for actual detector data we do not have this luxury."
   ]
  },
  {
   "cell_type": "code",
   "execution_count": 3,
   "metadata": {},
   "outputs": [],
   "source": [
    "fQCD1 = '~/diphoton_fake_rate_closure_test_QCD_Pt_1000to1400_TuneCUETP8M1_13TeV_pythia8_76X_MiniAOD_merged.root'\n",
    "fQCD2 = '~/diphoton_fake_rate_closure_test_QCD_Pt_10to15_TuneCUETP8M1_13TeV_pythia8_76X_MiniAOD_merged.root'\n",
    "fQCD3 = '~/diphoton_fake_rate_closure_test_QCD_Pt_120to170_TuneCUETP8M1_13TeV_pythia8_76X_MiniAOD_merged.root'\n",
    "fQCD4 = '~/diphoton_fake_rate_closure_test_QCD_Pt_1400to1800_TuneCUETP8M1_13TeV_pythia8_76X_MiniAOD_merged.root'\n",
    "fQCD5 = '~/diphoton_fake_rate_closure_test_QCD_Pt_15to30_TuneCUETP8M1_13TeV_pythia8_76X_MiniAOD_merged.root'\n",
    "fQCD6 = '~/diphoton_fake_rate_closure_test_QCD_Pt_170to300_TuneCUETP8M1_13TeV_pythia8_76X_MiniAOD_merged.root'\n",
    "fQCD7 = '~/diphoton_fake_rate_closure_test_QCD_Pt_1800to2400_TuneCUETP8M1_13TeV_pythia8_76X_MiniAOD_merged.root'\n",
    "fQCD8 = '~/diphoton_fake_rate_closure_test_QCD_Pt_2400to3200_TuneCUETP8M1_13TeV_pythia8_76X_MiniAOD_merged.root'\n",
    "fQCD9 = '~/diphoton_fake_rate_closure_test_QCD_Pt_300to470_TuneCUETP8M1_13TeV_pythia8_76X_MiniAOD_merged.root'\n",
    "fQCD10 = '~/diphoton_fake_rate_closure_test_QCD_Pt_30to50_TuneCUETP8M1_13TeV_pythia8_76X_MiniAOD_merged.root'\n",
    "fQCD11 = '~/diphoton_fake_rate_closure_test_QCD_Pt_3200toInf_TuneCUETP8M1_13TeV_pythia8_76X_MiniAOD_merged.root'\n",
    "fQCD12 = '~/diphoton_fake_rate_closure_test_QCD_Pt_470to600_TuneCUETP8M1_13TeV_pythia8_76X_MiniAOD_merged.root'\n",
    "fQCD13 = '~/diphoton_fake_rate_closure_test_QCD_Pt_50to80_TuneCUETP8M1_13TeV_pythia8_76X_MiniAOD_merged.root'\n",
    "fQCD14 = '~/diphoton_fake_rate_closure_test_QCD_Pt_5to10_TuneCUETP8M1_13TeV_pythia8_76X_MiniAOD_merged.root'\n",
    "fQCD15 = '~/diphoton_fake_rate_closure_test_QCD_Pt_600to800_TuneCUETP8M1_13TeV_pythia8_76X_MiniAOD_merged.root'\n",
    "fQCD16 = '~/diphoton_fake_rate_closure_test_QCD_Pt_800to1000_TuneCUETP8M1_13TeV_pythia8_76X_MiniAOD_merged.root'\n",
    "fQCD17 = '~/diphoton_fake_rate_closure_test_QCD_Pt_80to120_TuneCUETP8M1_13TeV_pythia8_76X_MiniAOD_merged.root'\n",
    "files_QCD = [fQCD1,fQCD2,fQCD3,fQCD4,fQCD5,fQCD6,fQCD7,fQCD8,fQCD9,fQCD10,fQCD11,fQCD12,fQCD13,fQCD14,fQCD15,fQCD16,fQCD17]"
   ]
  },
  {
   "cell_type": "code",
   "execution_count": 4,
   "metadata": {},
   "outputs": [],
   "source": [
    "fGJets1 = '~/diphoton_fake_rate_closure_test_GJets_HT-100To200_TuneCUETP8M1_13TeV-madgraphMLM-pythia8_76X_MiniAOD_merged.root'\n",
    "fGJets2 = '~/diphoton_fake_rate_closure_test_GJets_HT-200To400_TuneCUETP8M1_13TeV-madgraphMLM-pythia8_76X_MiniAOD_merged.root'\n",
    "fGJets3 = '~/diphoton_fake_rate_closure_test_GJets_HT-400To600_TuneCUETP8M1_13TeV-madgraphMLM-pythia8_76X_MiniAOD_merged.root'\n",
    "fGJets4 = '~/diphoton_fake_rate_closure_test_GJets_HT-40To100_TuneCUETP8M1_13TeV-madgraphMLM-pythia8_76X_MiniAOD_merged.root'\n",
    "fGJets5 = '~/diphoton_fake_rate_closure_test_GJets_HT-600ToInf_TuneCUETP8M1_13TeV-madgraphMLM-pythia8_76X_MiniAOD_merged.root'\n",
    "files_GJets = [fGJets1,fGJets2,fGJets3,fGJets4,fGJets5]"
   ]
  },
  {
   "cell_type": "code",
   "execution_count": 5,
   "metadata": {},
   "outputs": [],
   "source": [
    "df = read_root(files_QCD,'diphoton/fTreeFake',columns=['Photon','PhotonGenMatch','Event'])"
   ]
  },
  {
   "cell_type": "code",
   "execution_count": 6,
   "metadata": {},
   "outputs": [
    {
     "data": {
      "text/html": [
       "<div>\n",
       "<style scoped>\n",
       "    .dataframe tbody tr th:only-of-type {\n",
       "        vertical-align: middle;\n",
       "    }\n",
       "\n",
       "    .dataframe tbody tr th {\n",
       "        vertical-align: top;\n",
       "    }\n",
       "\n",
       "    .dataframe thead th {\n",
       "        text-align: right;\n",
       "    }\n",
       "</style>\n",
       "<table border=\"1\" class=\"dataframe\">\n",
       "  <thead>\n",
       "    <tr style=\"text-align: right;\">\n",
       "      <th></th>\n",
       "      <th>Photon_pt</th>\n",
       "      <th>Photon_eta</th>\n",
       "      <th>Photon_phi</th>\n",
       "      <th>Photon_scEta</th>\n",
       "      <th>Photon_scPhi</th>\n",
       "      <th>Photon_rho</th>\n",
       "      <th>Photon_chargedHadIso03</th>\n",
       "      <th>Photon_neutralHadIso03</th>\n",
       "      <th>Photon_photonIso03</th>\n",
       "      <th>Photon_rhoCorChargedHadIso03</th>\n",
       "      <th>...</th>\n",
       "      <th>Event_weightLumi</th>\n",
       "      <th>Event_weightAll</th>\n",
       "      <th>Event_interactingParton1PdgId</th>\n",
       "      <th>Event_interactingParton2PdgId</th>\n",
       "      <th>Event_pdf_id1</th>\n",
       "      <th>Event_pdf_id2</th>\n",
       "      <th>Event_npv_true</th>\n",
       "      <th>Event_beamHaloIDLoose</th>\n",
       "      <th>Event_beamHaloIDTight</th>\n",
       "      <th>Event_beamHaloIDTight2015</th>\n",
       "    </tr>\n",
       "  </thead>\n",
       "  <tbody>\n",
       "    <tr>\n",
       "      <th>0</th>\n",
       "      <td>363.732361</td>\n",
       "      <td>-2.062871</td>\n",
       "      <td>2.871125</td>\n",
       "      <td>-2.068904</td>\n",
       "      <td>2.868875</td>\n",
       "      <td>5.080811</td>\n",
       "      <td>0.000000</td>\n",
       "      <td>0.613959</td>\n",
       "      <td>0.091470</td>\n",
       "      <td>0.000000</td>\n",
       "      <td>...</td>\n",
       "      <td>0.003188</td>\n",
       "      <td>0.003188</td>\n",
       "      <td>-99999</td>\n",
       "      <td>-99999</td>\n",
       "      <td>21</td>\n",
       "      <td>-2</td>\n",
       "      <td>-99999</td>\n",
       "      <td>False</td>\n",
       "      <td>False</td>\n",
       "      <td>False</td>\n",
       "    </tr>\n",
       "    <tr>\n",
       "      <th>1</th>\n",
       "      <td>643.519714</td>\n",
       "      <td>0.943160</td>\n",
       "      <td>2.419950</td>\n",
       "      <td>0.945051</td>\n",
       "      <td>2.418524</td>\n",
       "      <td>9.379382</td>\n",
       "      <td>12.638377</td>\n",
       "      <td>3.107005</td>\n",
       "      <td>3.643839</td>\n",
       "      <td>12.638377</td>\n",
       "      <td>...</td>\n",
       "      <td>0.003188</td>\n",
       "      <td>0.003188</td>\n",
       "      <td>-99999</td>\n",
       "      <td>-99999</td>\n",
       "      <td>1</td>\n",
       "      <td>2</td>\n",
       "      <td>-99999</td>\n",
       "      <td>False</td>\n",
       "      <td>False</td>\n",
       "      <td>False</td>\n",
       "    </tr>\n",
       "    <tr>\n",
       "      <th>2</th>\n",
       "      <td>101.344048</td>\n",
       "      <td>0.953172</td>\n",
       "      <td>-0.992206</td>\n",
       "      <td>0.946730</td>\n",
       "      <td>-0.990898</td>\n",
       "      <td>7.416901</td>\n",
       "      <td>0.482431</td>\n",
       "      <td>0.959353</td>\n",
       "      <td>0.000000</td>\n",
       "      <td>0.482431</td>\n",
       "      <td>...</td>\n",
       "      <td>0.003188</td>\n",
       "      <td>0.003188</td>\n",
       "      <td>-99999</td>\n",
       "      <td>-99999</td>\n",
       "      <td>2</td>\n",
       "      <td>21</td>\n",
       "      <td>-99999</td>\n",
       "      <td>False</td>\n",
       "      <td>False</td>\n",
       "      <td>False</td>\n",
       "    </tr>\n",
       "    <tr>\n",
       "      <th>3</th>\n",
       "      <td>120.330292</td>\n",
       "      <td>-1.846444</td>\n",
       "      <td>-0.341931</td>\n",
       "      <td>-1.844041</td>\n",
       "      <td>-0.340076</td>\n",
       "      <td>13.655585</td>\n",
       "      <td>0.000000</td>\n",
       "      <td>0.796823</td>\n",
       "      <td>0.906919</td>\n",
       "      <td>0.000000</td>\n",
       "      <td>...</td>\n",
       "      <td>0.003188</td>\n",
       "      <td>0.003188</td>\n",
       "      <td>-99999</td>\n",
       "      <td>-99999</td>\n",
       "      <td>21</td>\n",
       "      <td>2</td>\n",
       "      <td>-99999</td>\n",
       "      <td>False</td>\n",
       "      <td>False</td>\n",
       "      <td>False</td>\n",
       "    </tr>\n",
       "    <tr>\n",
       "      <th>4</th>\n",
       "      <td>744.496155</td>\n",
       "      <td>0.269318</td>\n",
       "      <td>-2.786489</td>\n",
       "      <td>0.252932</td>\n",
       "      <td>-2.787344</td>\n",
       "      <td>13.778664</td>\n",
       "      <td>50.825432</td>\n",
       "      <td>0.000000</td>\n",
       "      <td>4.672008</td>\n",
       "      <td>50.825432</td>\n",
       "      <td>...</td>\n",
       "      <td>0.003188</td>\n",
       "      <td>0.003188</td>\n",
       "      <td>-99999</td>\n",
       "      <td>-99999</td>\n",
       "      <td>2</td>\n",
       "      <td>-1</td>\n",
       "      <td>-99999</td>\n",
       "      <td>False</td>\n",
       "      <td>False</td>\n",
       "      <td>False</td>\n",
       "    </tr>\n",
       "  </tbody>\n",
       "</table>\n",
       "<p>5 rows × 100 columns</p>\n",
       "</div>"
      ],
      "text/plain": [
       "    Photon_pt  Photon_eta  Photon_phi  Photon_scEta  Photon_scPhi  Photon_rho  \\\n",
       "0  363.732361   -2.062871    2.871125     -2.068904      2.868875    5.080811   \n",
       "1  643.519714    0.943160    2.419950      0.945051      2.418524    9.379382   \n",
       "2  101.344048    0.953172   -0.992206      0.946730     -0.990898    7.416901   \n",
       "3  120.330292   -1.846444   -0.341931     -1.844041     -0.340076   13.655585   \n",
       "4  744.496155    0.269318   -2.786489      0.252932     -2.787344   13.778664   \n",
       "\n",
       "   Photon_chargedHadIso03  Photon_neutralHadIso03  Photon_photonIso03  \\\n",
       "0                0.000000                0.613959            0.091470   \n",
       "1               12.638377                3.107005            3.643839   \n",
       "2                0.482431                0.959353            0.000000   \n",
       "3                0.000000                0.796823            0.906919   \n",
       "4               50.825432                0.000000            4.672008   \n",
       "\n",
       "   Photon_rhoCorChargedHadIso03  ...  Event_weightLumi  Event_weightAll  \\\n",
       "0                      0.000000  ...          0.003188         0.003188   \n",
       "1                     12.638377  ...          0.003188         0.003188   \n",
       "2                      0.482431  ...          0.003188         0.003188   \n",
       "3                      0.000000  ...          0.003188         0.003188   \n",
       "4                     50.825432  ...          0.003188         0.003188   \n",
       "\n",
       "   Event_interactingParton1PdgId  Event_interactingParton2PdgId  \\\n",
       "0                         -99999                         -99999   \n",
       "1                         -99999                         -99999   \n",
       "2                         -99999                         -99999   \n",
       "3                         -99999                         -99999   \n",
       "4                         -99999                         -99999   \n",
       "\n",
       "   Event_pdf_id1  Event_pdf_id2  Event_npv_true  Event_beamHaloIDLoose  \\\n",
       "0             21             -2          -99999                  False   \n",
       "1              1              2          -99999                  False   \n",
       "2              2             21          -99999                  False   \n",
       "3             21              2          -99999                  False   \n",
       "4              2             -1          -99999                  False   \n",
       "\n",
       "   Event_beamHaloIDTight  Event_beamHaloIDTight2015  \n",
       "0                  False                      False  \n",
       "1                  False                      False  \n",
       "2                  False                      False  \n",
       "3                  False                      False  \n",
       "4                  False                      False  \n",
       "\n",
       "[5 rows x 100 columns]"
      ]
     },
     "execution_count": 6,
     "metadata": {},
     "output_type": "execute_result"
    }
   ],
   "source": [
    "df.head()"
   ]
  },
  {
   "cell_type": "code",
   "execution_count": 7,
   "metadata": {},
   "outputs": [
    {
     "name": "stdout",
     "output_type": "stream",
     "text": [
      "<class 'pandas.core.frame.DataFrame'>\n",
      "RangeIndex: 443783 entries, 0 to 443782\n",
      "Data columns (total 100 columns):\n",
      "Photon_pt                                443783 non-null float64\n",
      "Photon_eta                               443783 non-null float64\n",
      "Photon_phi                               443783 non-null float64\n",
      "Photon_scEta                             443783 non-null float64\n",
      "Photon_scPhi                             443783 non-null float64\n",
      "Photon_rho                               443783 non-null float64\n",
      "Photon_chargedHadIso03                   443783 non-null float64\n",
      "Photon_neutralHadIso03                   443783 non-null float64\n",
      "Photon_photonIso03                       443783 non-null float64\n",
      "Photon_rhoCorChargedHadIso03             443783 non-null float64\n",
      "Photon_rhoCorNeutralHadIso03             443783 non-null float64\n",
      "Photon_rhoCorPhotonIso03                 443783 non-null float64\n",
      "Photon_corPhotonIso03                    443783 non-null float64\n",
      "Photon_hadTowerOverEm                    443783 non-null float64\n",
      "Photon_hadronicOverEm                    443783 non-null float64\n",
      "Photon_r9                                443783 non-null float64\n",
      "Photon_r9_5x5                            443783 non-null float64\n",
      "Photon_sigmaIetaIeta                     443783 non-null float64\n",
      "Photon_sigmaIetaIeta5x5                  443783 non-null float64\n",
      "Photon_sigmaEtaEta                       443783 non-null float64\n",
      "Photon_sigmaIphiIphi                     443783 non-null float64\n",
      "Photon_sigmaIphiIphi5x5                  443783 non-null float64\n",
      "Photon_sigmaIetaIphi                     443783 non-null float64\n",
      "Photon_sigmaIetaIphi5x5                  443783 non-null float64\n",
      "Photon_maxEnergyXtal                     443783 non-null float64\n",
      "Photon_iEta                              443783 non-null float64\n",
      "Photon_iPhi                              443783 non-null float64\n",
      "Photon_alphaHighPtID                     443783 non-null float64\n",
      "Photon_kappaHighPtID                     443783 non-null float64\n",
      "Photon_phoEAHighPtID                     443783 non-null float64\n",
      "Photon_chEAegmID                         443783 non-null float64\n",
      "Photon_nhEAegmID                         443783 non-null float64\n",
      "Photon_phoEAegmID                        443783 non-null float64\n",
      "Photon_passEGMLooseID                    443783 non-null bool\n",
      "Photon_passEGMMediumID                   443783 non-null bool\n",
      "Photon_passEGMTightID                    443783 non-null bool\n",
      "Photon_isEB                              443783 non-null bool\n",
      "Photon_isEE                              443783 non-null bool\n",
      "Photon_isEBEtaGap                        443783 non-null bool\n",
      "Photon_isEBPhiGap                        443783 non-null bool\n",
      "Photon_isEERingGap                       443783 non-null bool\n",
      "Photon_isEEDeeGap                        443783 non-null bool\n",
      "Photon_isEBEEGap                         443783 non-null bool\n",
      "Photon_passElectronVeto                  443783 non-null bool\n",
      "Photon_passHTowOverE                     443783 non-null bool\n",
      "Photon_passChIso                         443783 non-null bool\n",
      "Photon_passCorPhoIso                     443783 non-null bool\n",
      "Photon_passSieie                         443783 non-null bool\n",
      "Photon_passHighPtID                      443783 non-null bool\n",
      "Photon_passChIsoDenom                    443783 non-null bool\n",
      "Photon_passCorPhoIsoDenom                443783 non-null bool\n",
      "Photon_isFakeable                        443783 non-null bool\n",
      "Photon_isNumeratorObjCand                443783 non-null bool\n",
      "Photon_isDenominatorObj                  443783 non-null bool\n",
      "Photon_isSaturated                       443783 non-null bool\n",
      "Photon_isMCTruthFake                     443783 non-null bool\n",
      "PhotonGenMatch_pt                        443783 non-null float64\n",
      "PhotonGenMatch_eta                       443783 non-null float64\n",
      "PhotonGenMatch_phi                       443783 non-null float64\n",
      "PhotonGenMatch_deltaR_match              443783 non-null float64\n",
      "PhotonGenMatch_deltaR_matchDau           443783 non-null float64\n",
      "PhotonGenMatch_ptDiff_match              443783 non-null float64\n",
      "PhotonGenMatch_matchCategory             443783 non-null int32\n",
      "PhotonGenMatch_matchType                 443783 non-null int32\n",
      "PhotonGenMatch_nPhotonMotherDaughters    443783 non-null int32\n",
      "PhotonGenMatch_status                    443783 non-null int32\n",
      "PhotonGenMatch_motherStatus              443783 non-null int32\n",
      "PhotonGenMatch_grandmotherStatus         443783 non-null int32\n",
      "PhotonGenMatch_pdgId                     443783 non-null int32\n",
      "PhotonGenMatch_motherPdgId               443783 non-null int32\n",
      "PhotonGenMatch_grandmotherPdgId          443783 non-null int32\n",
      "Event_run                                443783 non-null int64\n",
      "Event_LS                                 443783 non-null int64\n",
      "Event_evnum                              443783 non-null int64\n",
      "Event_processid                          443783 non-null int64\n",
      "Event_bx                                 443783 non-null int64\n",
      "Event_orbit                              443783 non-null int64\n",
      "Event_ptHat                              443783 non-null float32\n",
      "Event_alphaqcd                           443783 non-null float32\n",
      "Event_alphaqed                           443783 non-null float32\n",
      "Event_qscale                             443783 non-null float32\n",
      "Event_x1                                 443783 non-null float32\n",
      "Event_x2                                 443783 non-null float32\n",
      "Event_pdf1                               443783 non-null float32\n",
      "Event_pdf2                               443783 non-null float32\n",
      "Event_weight0                            443783 non-null float32\n",
      "Event_weight                             443783 non-null float32\n",
      "Event_weightPuUp                         443783 non-null float32\n",
      "Event_weightPu                           443783 non-null float32\n",
      "Event_weightPuDown                       443783 non-null float32\n",
      "Event_weightLumi                         443783 non-null float32\n",
      "Event_weightAll                          443783 non-null float32\n",
      "Event_interactingParton1PdgId            443783 non-null int32\n",
      "Event_interactingParton2PdgId            443783 non-null int32\n",
      "Event_pdf_id1                            443783 non-null int32\n",
      "Event_pdf_id2                            443783 non-null int32\n",
      "Event_npv_true                           443783 non-null int32\n",
      "Event_beamHaloIDLoose                    443783 non-null bool\n",
      "Event_beamHaloIDTight                    443783 non-null bool\n",
      "Event_beamHaloIDTight2015                443783 non-null bool\n",
      "dtypes: bool(26), float32(15), float64(39), int32(14), int64(6)\n",
      "memory usage: 212.5 MB\n"
     ]
    }
   ],
   "source": [
    "df.info()"
   ]
  },
  {
   "cell_type": "markdown",
   "metadata": {},
   "source": [
    "- By construction, there are no NULL values. Let's sanity check this.\n",
    "- Initially, there are $m = 443,783$ examples. Some preprocessing is in order though."
   ]
  },
  {
   "cell_type": "code",
   "execution_count": 8,
   "metadata": {},
   "outputs": [],
   "source": [
    "#df.describe(include='all')"
   ]
  },
  {
   "cell_type": "code",
   "execution_count": 9,
   "metadata": {},
   "outputs": [
    {
     "data": {
      "text/plain": [
       "0"
      ]
     },
     "execution_count": 9,
     "metadata": {},
     "output_type": "execute_result"
    }
   ],
   "source": [
    "df.isnull().sum().sum()"
   ]
  },
  {
   "cell_type": "code",
   "execution_count": 10,
   "metadata": {},
   "outputs": [
    {
     "data": {
      "text/plain": [
       "443783"
      ]
     },
     "execution_count": 10,
     "metadata": {},
     "output_type": "execute_result"
    }
   ],
   "source": [
    "len(df)"
   ]
  },
  {
   "cell_type": "markdown",
   "metadata": {},
   "source": [
    "## Data Preprocessing\n",
    "\n",
    "We apply the following pre-selection on all examples:\n",
    "- Pass photon ID\n",
    "- Located inside the EB or EE detectors (these are the CMS ECAL barrel and endcap detectors, respectively)\n",
    "- Are high energy, above 50 GeV\n",
    "- Have small shower shapes along the $\\phi$-direction (this eliminates a certain type of fakes produced from another physical source) \n",
    "\n",
    "Now, $m = 156,202$"
   ]
  },
  {
   "cell_type": "code",
   "execution_count": 6,
   "metadata": {},
   "outputs": [
    {
     "data": {
      "text/plain": [
       "156202"
      ]
     },
     "execution_count": 6,
     "metadata": {},
     "output_type": "execute_result"
    }
   ],
   "source": [
    "df = df[df['Photon_passHighPtID'] == 1]\n",
    "df = df[(df['Photon_isEB']==True) | (df['Photon_isEE']==True)]\n",
    "df = df[(df['Photon_pt'] > 50.0) & (df['Photon_sigmaIphiIphi5x5'] > 0.009)]\n",
    "len(df)"
   ]
  },
  {
   "cell_type": "markdown",
   "metadata": {},
   "source": [
    "## Data Visualization\n",
    "\n",
    "- Photon $p_T$ shows most photons fall towards the lower side of the energy spectrum\n",
    "- Photon $\\eta$ vs. $\\phi$ shows where the photons are located inside the ECAL (with the EB and EE separated by a gap on both sides)\n",
    "- Photon $\\sigma_{i\\eta i\\eta}$ shows the width of the photon shower along the $\\eta$-direction (with different distributions in the EB and EE regions)\n",
    "- Photon Iso$_{Ch}$ shows that most photons have little activity around them and are well isolated"
   ]
  },
  {
   "cell_type": "code",
   "execution_count": 12,
   "metadata": {},
   "outputs": [
    {
     "data": {
      "image/png": "[encoded data removed]",
      "text/plain": [
       "<Figure size 432x288 with 1 Axes>"
      ]
     },
     "metadata": {
      "needs_background": "light"
     },
     "output_type": "display_data"
    }
   ],
   "source": [
    "n_bins_pt = 100;\n",
    "#(max(df['Photon_pt'])-min(df['Photon_pt']))/60\n",
    "#bins=np.arange(min(data), max(data) + binwidth, binwidth)\n",
    "df['Photon_pt'].plot.hist(bins=n_bins_pt,range=(0,4000),log=True); #weights=df['Event_weightAll']\n",
    "plt.xlabel('Photon $p_T$ (GeV)', horizontalalignment='right', x=1.0);\n",
    "plt.ylabel('Events / '+str(int(4000/n_bins_pt))+' GeV', horizontalalignment='right', y=1.0);"
   ]
  },
  {
   "cell_type": "code",
   "execution_count": 13,
   "metadata": {},
   "outputs": [
    {
     "data": {
      "image/png": "[encoded data removed]",
      "text/plain": [
       "<Figure size 432x288 with 1 Axes>"
      ]
     },
     "metadata": {
      "needs_background": "light"
     },
     "output_type": "display_data"
    }
   ],
   "source": [
    "#df.plot.scatter('Photon_scEta', 'Photon_scPhi');\n",
    "plt.hist2d(df['Photon_scEta'],df['Photon_scPhi'],bins=150); #weights=df['Event_weightAll']\n",
    "plt.suptitle('Photon location',fontsize=16)\n",
    "plt.xlabel('$\\eta$');\n",
    "plt.ylabel('$\\phi$');"
   ]
  },
  {
   "cell_type": "code",
   "execution_count": 14,
   "metadata": {},
   "outputs": [
    {
     "data": {
      "image/png": "[encoded data removed]",
      "text/plain": [
       "<Figure size 432x288 with 1 Axes>"
      ]
     },
     "metadata": {
      "needs_background": "light"
     },
     "output_type": "display_data"
    }
   ],
   "source": [
    "df['Photon_sigmaIetaIeta5x5'].plot.hist(bins=100,log=False); #weights=df['Event_weightAll']\n",
    "plt.xlabel('Photon $\\sigma_{i\\eta i\\eta}$', horizontalalignment='right', x=1.0);\n",
    "plt.ylabel('Events', horizontalalignment='right', y=1.0);"
   ]
  },
  {
   "cell_type": "code",
   "execution_count": 15,
   "metadata": {},
   "outputs": [
    {
     "data": {
      "image/png": "[encoded data removed]",
      "text/plain": [
       "<Figure size 432x288 with 1 Axes>"
      ]
     },
     "metadata": {
      "needs_background": "light"
     },
     "output_type": "display_data"
    }
   ],
   "source": [
    "df['Photon_chargedHadIso03'].plot.hist(bins=50,log=True); #weights=df['Event_weightAll']\n",
    "plt.xlabel('Photon Iso$_{Ch}$ (GeV)', horizontalalignment='right', x=1.0);\n",
    "plt.ylabel('Events / '+str(5/50)+' GeV', horizontalalignment='right', y=1.0);"
   ]
  },
  {
   "cell_type": "markdown",
   "metadata": {},
   "source": [
    "## Create labels\n",
    "\n",
    "Let's encode the fake criteria into a single label:\n",
    "- Real photons ($y=0$)\n",
    "- Fake photons ($y=1$)\n",
    "\n",
    "Store this as a NumPy array `Y_train`."
   ]
  },
  {
   "cell_type": "code",
   "execution_count": 7,
   "metadata": {},
   "outputs": [],
   "source": [
    "def is_fake(row):\n",
    "    if (row['Photon_passHighPtID'] == 1) and ((row['PhotonGenMatch_matchCategory'] == 1) or (row['PhotonGenMatch_matchCategory'] == 2)) and (row['PhotonGenMatch_matchType'] == 1):\n",
    "        val = 1\n",
    "    else:\n",
    "        val = 0\n",
    "    return val    "
   ]
  },
  {
   "cell_type": "code",
   "execution_count": 8,
   "metadata": {},
   "outputs": [],
   "source": [
    "df['fake'] = df.apply(is_fake, axis=1)"
   ]
  },
  {
   "cell_type": "code",
   "execution_count": 18,
   "metadata": {},
   "outputs": [
    {
     "data": {
      "text/plain": [
       "0    138435\n",
       "1     17767\n",
       "Name: fake, dtype: int64"
      ]
     },
     "execution_count": 18,
     "metadata": {},
     "output_type": "execute_result"
    }
   ],
   "source": [
    "#df[['PhotonGenMatch_matchCategory','PhotonGenMatch_matchType','fake']][df['fake']==1]\n",
    "df['fake'].value_counts()"
   ]
  },
  {
   "cell_type": "code",
   "execution_count": 9,
   "metadata": {},
   "outputs": [
    {
     "data": {
      "text/plain": [
       "(156202,)"
      ]
     },
     "execution_count": 9,
     "metadata": {},
     "output_type": "execute_result"
    }
   ],
   "source": [
    "Y = df['fake'].to_numpy()\n",
    "Y.shape\n",
    "#Y_train = Y.reshape(Y.shape[0],1)\n",
    "#Y_train.shape"
   ]
  },
  {
   "cell_type": "code",
   "execution_count": 20,
   "metadata": {},
   "outputs": [
    {
     "data": {
      "image/png": "[encoded data removed]",
      "text/plain": [
       "<Figure size 432x288 with 1 Axes>"
      ]
     },
     "metadata": {
      "needs_background": "light"
     },
     "output_type": "display_data"
    }
   ],
   "source": [
    "fig = plt.figure()\n",
    "ax = fig.add_subplot(111)\n",
    "df['Photon_sigmaIetaIeta5x5'][df['fake']==0].plot.hist(bins=100,density=True,log=False,label='Real',histtype='step'); # weights=df['Event_weightAll'][df['fake']==0]\n",
    "df['Photon_sigmaIetaIeta5x5'][df['fake']==1].plot.hist(bins=100,density=True,log=False,label='Fake',histtype='step'); # weights=df['Event_weightAll'][df['fake']==1]\n",
    "plt.xlabel('Photon $\\sigma_{i\\eta i\\eta}$', horizontalalignment='right', x=1.0);\n",
    "plt.ylabel('Events', horizontalalignment='right', y=1.0);\n",
    "plt.legend(loc='upper right');\n",
    "handles, labels = ax.get_legend_handles_labels()\n",
    "new_handles = [Line2D([], [], c=h.get_edgecolor()) for h in handles]\n",
    "plt.legend(handles=new_handles, labels=labels)\n",
    "plt.show()"
   ]
  },
  {
   "cell_type": "markdown",
   "metadata": {},
   "source": [
    "## Prepare features\n",
    "\n",
    "Organize desired features into NumPy array `X_train`. Normalize features by mean and standardize by the standard deviation.\n"
   ]
  },
  {
   "cell_type": "code",
   "execution_count": 10,
   "metadata": {},
   "outputs": [],
   "source": [
    "features = ['Photon_pt','Photon_eta','Photon_phi','Photon_iEta','Photon_iPhi','Photon_rho','Photon_chargedHadIso03','Photon_neutralHadIso03','Photon_photonIso03','Photon_hadTowerOverEm','Photon_r9_5x5','Photon_sigmaIetaIeta5x5','Photon_sigmaIphiIphi5x5','Photon_sigmaIetaIphi5x5','Photon_maxEnergyXtal']\n",
    "X = df[features].to_numpy()"
   ]
  },
  {
   "cell_type": "code",
   "execution_count": 22,
   "metadata": {},
   "outputs": [
    {
     "data": {
      "text/plain": [
       "(156202, 15)"
      ]
     },
     "execution_count": 22,
     "metadata": {},
     "output_type": "execute_result"
    }
   ],
   "source": [
    "X.shape"
   ]
  },
  {
   "cell_type": "code",
   "execution_count": 11,
   "metadata": {},
   "outputs": [],
   "source": [
    "scaler = preprocessing.StandardScaler().fit(X)"
   ]
  },
  {
   "cell_type": "code",
   "execution_count": 12,
   "metadata": {},
   "outputs": [],
   "source": [
    "X_scaled = scaler.transform(X)"
   ]
  },
  {
   "cell_type": "code",
   "execution_count": 13,
   "metadata": {},
   "outputs": [
    {
     "data": {
      "text/plain": [
       "(156202, 15)"
      ]
     },
     "execution_count": 13,
     "metadata": {},
     "output_type": "execute_result"
    }
   ],
   "source": [
    "X_scaled.shape"
   ]
  },
  {
   "cell_type": "code",
   "execution_count": 26,
   "metadata": {},
   "outputs": [
    {
     "data": {
      "image/png": "[encoded data removed]",
      "text/plain": [
       "<Figure size 432x288 with 1 Axes>"
      ]
     },
     "metadata": {
      "needs_background": "light"
     },
     "output_type": "display_data"
    }
   ],
   "source": [
    "plt.hist(x=X_scaled[:,0], bins=100,log=True);\n",
    "plt.xlabel('Scaled photon $p_T$ (GeV)', horizontalalignment='right', x=1.0);\n",
    "plt.ylabel('Events', horizontalalignment='right', y=1.0);"
   ]
  },
  {
   "cell_type": "markdown",
   "metadata": {},
   "source": [
    "## Feature Correlation\n",
    "\n",
    "- The strongest correlations are among the angular coordinates, shower shapes along the angular coordinates, and among the different energy variables"
   ]
  },
  {
   "cell_type": "code",
   "execution_count": 27,
   "metadata": {},
   "outputs": [],
   "source": [
    "corr = df[features].corr()"
   ]
  },
  {
   "cell_type": "code",
   "execution_count": 28,
   "metadata": {},
   "outputs": [
    {
     "data": {
      "image/png": "[encoded data removed]",
      "text/plain": [
       "<Figure size 432x288 with 2 Axes>"
      ]
     },
     "metadata": {
      "needs_background": "light"
     },
     "output_type": "display_data"
    }
   ],
   "source": [
    "sns.heatmap(corr);"
   ]
  },
  {
   "cell_type": "markdown",
   "metadata": {},
   "source": [
    "## Split dataset\n",
    "\n",
    "Let's divided the dataset into training and testing datasets."
   ]
  },
  {
   "cell_type": "code",
   "execution_count": 14,
   "metadata": {},
   "outputs": [],
   "source": [
    "from sklearn.model_selection import train_test_split\n",
    "X_train, X_test, Y_train, Y_test = train_test_split(X_scaled, Y, test_size=0.3)"
   ]
  },
  {
   "cell_type": "code",
   "execution_count": 15,
   "metadata": {},
   "outputs": [
    {
     "name": "stdout",
     "output_type": "stream",
     "text": [
      "Number of total examples: 156202\n",
      "Number of training examples: 109341\n",
      "Number of testing examples: 46861\n",
      "X_train shape: (109341, 15)\n",
      "Y_train shape: (109341,)\n",
      "X_test shape: (46861, 15)\n",
      "Y_test shape: (46861,)\n"
     ]
    }
   ],
   "source": [
    "print (\"Number of total examples: \" + str(X.shape[0]))\n",
    "print (\"Number of training examples: \" + str(X_train.shape[0]))\n",
    "print (\"Number of testing examples: \" + str(X_test.shape[0]))\n",
    "print (\"X_train shape: \" + str(X_train.shape))\n",
    "print (\"Y_train shape: \" + str(Y_train.shape))\n",
    "print (\"X_test shape: \" + str(X_test.shape))\n",
    "print (\"Y_test shape: \" + str(Y_test.shape))"
   ]
  },
  {
   "cell_type": "markdown",
   "metadata": {},
   "source": [
    "## Simple Logistic Regression Classifier\n",
    "\n",
    "We train a simple linear classifier using logistic regression to get a baseline for performance on this dataset."
   ]
  },
  {
   "cell_type": "code",
   "execution_count": 31,
   "metadata": {},
   "outputs": [
    {
     "name": "stderr",
     "output_type": "stream",
     "text": [
      "/Users/abuccilli/anaconda3/envs/photon-classification-keras/lib/python3.7/site-packages/sklearn/model_selection/_split.py:1978: FutureWarning: The default value of cv will change from 3 to 5 in version 0.22. Specify it explicitly to silence this warning.\n",
      "  warnings.warn(CV_WARNING, FutureWarning)\n"
     ]
    }
   ],
   "source": [
    "clf = sklearn.linear_model.LogisticRegressionCV();\n",
    "clf.fit(X_train, Y_train);"
   ]
  },
  {
   "cell_type": "code",
   "execution_count": 32,
   "metadata": {},
   "outputs": [
    {
     "name": "stdout",
     "output_type": "stream",
     "text": [
      "Accuracy of logistic regression: 92% (training set)\n"
     ]
    }
   ],
   "source": [
    "LR_predictions_train = clf.predict(X_train)\n",
    "print ('Accuracy of logistic regression: %d' % float((np.dot(Y_train,LR_predictions_train) + np.dot(1-Y_train,1-LR_predictions_train))/float(Y_train.size)*100) +'% ' + \"(training set)\")"
   ]
  },
  {
   "cell_type": "code",
   "execution_count": 33,
   "metadata": {},
   "outputs": [
    {
     "name": "stdout",
     "output_type": "stream",
     "text": [
      "Accuracy of logistic regression: 92% (test set)\n"
     ]
    }
   ],
   "source": [
    "LR_predictions_test = clf.predict(X_test)\n",
    "print ('Accuracy of logistic regression: %d' % float((np.dot(Y_test,LR_predictions_test) + np.dot(1-Y_test,1-LR_predictions_test))/float(Y_test.size)*100) +'% ' + \"(test set)\")"
   ]
  },
  {
   "cell_type": "markdown",
   "metadata": {},
   "source": [
    "- The accuracy is promising; however, the classes are skewed so let's check the F1 score."
   ]
  },
  {
   "cell_type": "code",
   "execution_count": 34,
   "metadata": {},
   "outputs": [
    {
     "data": {
      "text/plain": [
       "0.6007259528130672"
      ]
     },
     "execution_count": 34,
     "metadata": {},
     "output_type": "execute_result"
    }
   ],
   "source": [
    "sklearn.metrics.f1_score(Y_test, LR_predictions_test)"
   ]
  },
  {
   "cell_type": "code",
   "execution_count": 35,
   "metadata": {},
   "outputs": [
    {
     "data": {
      "text/plain": [
       "49.38455800074599"
      ]
     },
     "execution_count": 35,
     "metadata": {},
     "output_type": "execute_result"
    }
   ],
   "source": [
    "np.dot(Y_test,LR_predictions_test)/sum(Y_test==1)*100."
   ]
  },
  {
   "cell_type": "code",
   "execution_count": 36,
   "metadata": {},
   "outputs": [
    {
     "data": {
      "text/plain": [
       "98.05778452492831"
      ]
     },
     "execution_count": 36,
     "metadata": {},
     "output_type": "execute_result"
    }
   ],
   "source": [
    "np.dot(1-Y_test,1-LR_predictions_test)/sum(Y_test==0)*100."
   ]
  },
  {
   "cell_type": "markdown",
   "metadata": {},
   "source": [
    "## Nonlinear classifier\n",
    "\n",
    "We use a 4-layer deep neural network as our classifier, comprising 3 hidden layers. L2 regularization is used."
   ]
  },
  {
   "cell_type": "code",
   "execution_count": 23,
   "metadata": {},
   "outputs": [
    {
     "data": {
      "text/plain": [
       "MLPClassifier(activation='relu', alpha=0.01, batch_size='auto', beta_1=0.9,\n",
       "              beta_2=0.999, early_stopping=False, epsilon=1e-08,\n",
       "              hidden_layer_sizes=(10, 10, 4), learning_rate='constant',\n",
       "              learning_rate_init=0.0001, max_iter=1500, momentum=0.9,\n",
       "              n_iter_no_change=10, nesterovs_momentum=True, power_t=0.5,\n",
       "              random_state=1, shuffle=True, solver='lbfgs', tol=0.0001,\n",
       "              validation_fraction=0.1, verbose=False, warm_start=False)"
      ]
     },
     "execution_count": 23,
     "metadata": {},
     "output_type": "execute_result"
    }
   ],
   "source": [
    "clf_NN = MLPClassifier(solver='lbfgs', alpha=1e-2, hidden_layer_sizes=(10,10,4), max_iter=1500, learning_rate_init=0.0001, random_state=1)\n",
    "clf_NN.fit(X_train,Y_train)"
   ]
  },
  {
   "cell_type": "code",
   "execution_count": 24,
   "metadata": {},
   "outputs": [
    {
     "name": "stdout",
     "output_type": "stream",
     "text": [
      "Accuracy of NN: 94% (training set)\n"
     ]
    }
   ],
   "source": [
    "NN_predictions_train = clf_NN.predict(X_train)\n",
    "print ('Accuracy of NN: %d' % float((np.dot(Y_train,NN_predictions_train) + np.dot(1-Y_train,1-NN_predictions_train))/float(Y_train.size)*100) +'% ' + \"(training set)\")"
   ]
  },
  {
   "cell_type": "code",
   "execution_count": 25,
   "metadata": {},
   "outputs": [
    {
     "name": "stdout",
     "output_type": "stream",
     "text": [
      "Accuracy of NN: 94% (test set)\n"
     ]
    }
   ],
   "source": [
    "NN_predictions_test = clf_NN.predict(X_test)\n",
    "print ('Accuracy of NN: %d' % float((np.dot(Y_test,NN_predictions_test) + np.dot(1-Y_test,1-NN_predictions_test))/float(Y_test.size)*100) +'% ' + \"(test set)\")"
   ]
  },
  {
   "cell_type": "code",
   "execution_count": 26,
   "metadata": {},
   "outputs": [
    {
     "data": {
      "text/plain": [
       "0.7210164107993646"
      ]
     },
     "execution_count": 26,
     "metadata": {},
     "output_type": "execute_result"
    }
   ],
   "source": [
    "sklearn.metrics.f1_score(Y_test, NN_predictions_test)"
   ]
  },
  {
   "cell_type": "code",
   "execution_count": 27,
   "metadata": {},
   "outputs": [
    {
     "data": {
      "text/plain": [
       "64.08808582721626"
      ]
     },
     "execution_count": 27,
     "metadata": {},
     "output_type": "execute_result"
    }
   ],
   "source": [
    "np.dot(Y_test,NN_predictions_test)/sum(Y_test==1)*100."
   ]
  },
  {
   "cell_type": "code",
   "execution_count": 28,
   "metadata": {},
   "outputs": [
    {
     "data": {
      "text/plain": [
       "98.250216616925"
      ]
     },
     "execution_count": 28,
     "metadata": {},
     "output_type": "execute_result"
    }
   ],
   "source": [
    "np.dot(1-Y_test,1-NN_predictions_test)/sum(Y_test==0)*100."
   ]
  },
  {
   "cell_type": "markdown",
   "metadata": {},
   "source": [
    "# DNN with Keras"
   ]
  },
  {
   "cell_type": "code",
   "execution_count": 43,
   "metadata": {},
   "outputs": [
    {
     "name": "stdout",
     "output_type": "stream",
     "text": [
      "WARNING:tensorflow:From /Users/abuccilli/anaconda3/envs/photon-classification-keras/lib/python3.7/site-packages/tensorflow/python/framework/op_def_library.py:263: colocate_with (from tensorflow.python.framework.ops) is deprecated and will be removed in a future version.\n",
      "Instructions for updating:\n",
      "Colocations handled automatically by placer.\n"
     ]
    }
   ],
   "source": [
    "classifier = Sequential()\n",
    "classifier.add(Dense(10, activation='relu', kernel_initializer='normal', input_dim=len(features)))\n",
    "classifier.add(Dense(10, activation='relu', kernel_initializer='normal'))\n",
    "classifier.add(Dense(4, activation='relu', kernel_initializer='normal'))\n",
    "classifier.add(Dense(1, activation='sigmoid', kernel_initializer='normal'))"
   ]
  },
  {
   "cell_type": "code",
   "execution_count": 44,
   "metadata": {},
   "outputs": [
    {
     "name": "stdout",
     "output_type": "stream",
     "text": [
      "WARNING:tensorflow:From /Users/abuccilli/anaconda3/envs/photon-classification-keras/lib/python3.7/site-packages/tensorflow/python/ops/math_ops.py:3066: to_int32 (from tensorflow.python.ops.math_ops) is deprecated and will be removed in a future version.\n",
      "Instructions for updating:\n",
      "Use tf.cast instead.\n",
      "Epoch 1/10\n",
      "109341/109341 [==============================] - 2s 15us/step - loss: 0.2657 - acc: 0.8882\n",
      "Epoch 2/10\n",
      "109341/109341 [==============================] - 1s 11us/step - loss: 0.2048 - acc: 0.9288\n",
      "Epoch 3/10\n",
      "109341/109341 [==============================] - 1s 11us/step - loss: 0.1960 - acc: 0.9319\n",
      "Epoch 4/10\n",
      "109341/109341 [==============================] - 1s 11us/step - loss: 0.1904 - acc: 0.9326\n",
      "Epoch 5/10\n",
      "109341/109341 [==============================] - 1s 11us/step - loss: 0.1872 - acc: 0.9332\n",
      "Epoch 6/10\n",
      "109341/109341 [==============================] - 1s 11us/step - loss: 0.1845 - acc: 0.9342\n",
      "Epoch 7/10\n",
      "109341/109341 [==============================] - 1s 11us/step - loss: 0.1823 - acc: 0.9340\n",
      "Epoch 8/10\n",
      "109341/109341 [==============================] - 1s 11us/step - loss: 0.1808 - acc: 0.9345\n",
      "Epoch 9/10\n",
      "109341/109341 [==============================] - 1s 11us/step - loss: 0.1795 - acc: 0.9348\n",
      "Epoch 10/10\n",
      "109341/109341 [==============================] - 1s 11us/step - loss: 0.1786 - acc: 0.9350\n"
     ]
    },
    {
     "data": {
      "text/plain": [
       "<keras.callbacks.History at 0x1316ffac8>"
      ]
     },
     "execution_count": 44,
     "metadata": {},
     "output_type": "execute_result"
    },
    {
     "name": "stderr",
     "output_type": "stream",
     "text": [
      "2019-07-09 15:44:41.187146: I tensorflow/core/platform/cpu_feature_guard.cc:141] Your CPU supports instructions that this TensorFlow binary was not compiled to use: AVX2 FMA\n"
     ]
    }
   ],
   "source": [
    "classifier.compile(optimizer ='adam',loss='binary_crossentropy', metrics =['accuracy'])\n",
    "classifier.fit(X_train,Y_train, batch_size=100, epochs=10)"
   ]
  },
  {
   "cell_type": "code",
   "execution_count": 45,
   "metadata": {},
   "outputs": [
    {
     "name": "stdout",
     "output_type": "stream",
     "text": [
      "109341/109341 [==============================] - 1s 10us/step\n"
     ]
    },
    {
     "data": {
      "text/plain": [
       "[0.17754322619894813, 0.9353947741529312]"
      ]
     },
     "execution_count": 45,
     "metadata": {},
     "output_type": "execute_result"
    }
   ],
   "source": [
    "classifier.evaluate(X_train, Y_train)"
   ]
  },
  {
   "cell_type": "code",
   "execution_count": 53,
   "metadata": {},
   "outputs": [],
   "source": [
    "Y_pred_keras = classifier.predict(X_test)"
   ]
  },
  {
   "cell_type": "code",
   "execution_count": 54,
   "metadata": {},
   "outputs": [],
   "source": [
    "Y_pred_keras = (Y_pred_keras > 0.5)"
   ]
  },
  {
   "cell_type": "code",
   "execution_count": 55,
   "metadata": {},
   "outputs": [
    {
     "name": "stdout",
     "output_type": "stream",
     "text": [
      "Accuracy of NN: 93% (test set)\n"
     ]
    }
   ],
   "source": [
    "print ('Accuracy of NN: %d' % float((np.dot(Y_test,Y_pred_keras) + np.dot(1-Y_test,1-Y_pred_keras))/float(Y_test.size)*100) +'% ' + \"(test set)\")"
   ]
  },
  {
   "cell_type": "code",
   "execution_count": 56,
   "metadata": {},
   "outputs": [
    {
     "data": {
      "text/plain": [
       "0.6720395443799699"
      ]
     },
     "execution_count": 56,
     "metadata": {},
     "output_type": "execute_result"
    }
   ],
   "source": [
    "sklearn.metrics.f1_score(Y_test, Y_pred_keras)"
   ]
  },
  {
   "cell_type": "code",
   "execution_count": 57,
   "metadata": {},
   "outputs": [
    {
     "data": {
      "text/plain": [
       "58.317791868705704"
      ]
     },
     "execution_count": 57,
     "metadata": {},
     "output_type": "execute_result"
    }
   ],
   "source": [
    "np.squeeze(np.dot(Y_test,Y_pred_keras)/sum(Y_test==1))*100."
   ]
  },
  {
   "cell_type": "code",
   "execution_count": 58,
   "metadata": {},
   "outputs": [
    {
     "data": {
      "text/plain": [
       "98.03127786211716"
      ]
     },
     "execution_count": 58,
     "metadata": {},
     "output_type": "execute_result"
    }
   ],
   "source": [
    "np.squeeze(np.dot(1-Y_test,1-Y_pred_keras)/sum(Y_test==0))*100."
   ]
  },
  {
   "cell_type": "markdown",
   "metadata": {},
   "source": [
    "# Test on Production Data\n",
    "\n",
    "We further check our classifier's performance by checking it on other data. First, we need to preprocess our features. This dataset is heavily skewed between classes."
   ]
  },
  {
   "cell_type": "code",
   "execution_count": 16,
   "metadata": {},
   "outputs": [],
   "source": [
    "df_test = read_root(fGJets2,'diphoton/fTreeFake',columns=['Photon','PhotonGenMatch','Event'])"
   ]
  },
  {
   "cell_type": "code",
   "execution_count": 17,
   "metadata": {},
   "outputs": [
    {
     "data": {
      "text/plain": [
       "1869221"
      ]
     },
     "execution_count": 17,
     "metadata": {},
     "output_type": "execute_result"
    }
   ],
   "source": [
    "df_test = df_test[df_test['Photon_passHighPtID'] == 1]\n",
    "df_test = df_test[(df_test['Photon_isEB']==True) | (df_test['Photon_isEE']==True)]\n",
    "df_test = df_test[(df_test['Photon_pt'] > 50.0) & (df_test['Photon_sigmaIphiIphi5x5'] > 0.009)]\n",
    "len(df_test)"
   ]
  },
  {
   "cell_type": "code",
   "execution_count": 18,
   "metadata": {},
   "outputs": [],
   "source": [
    "df_test['fake'] = df_test.apply(is_fake, axis=1)"
   ]
  },
  {
   "cell_type": "code",
   "execution_count": 19,
   "metadata": {},
   "outputs": [
    {
     "data": {
      "text/plain": [
       "0    1862201\n",
       "1       7020\n",
       "Name: fake, dtype: int64"
      ]
     },
     "execution_count": 19,
     "metadata": {},
     "output_type": "execute_result"
    }
   ],
   "source": [
    "df_test['fake'].value_counts()"
   ]
  },
  {
   "cell_type": "code",
   "execution_count": 20,
   "metadata": {},
   "outputs": [],
   "source": [
    "Y_prod = df_test['fake'].to_numpy()\n",
    "X_prod = df_test[features].to_numpy()"
   ]
  },
  {
   "cell_type": "code",
   "execution_count": 21,
   "metadata": {},
   "outputs": [],
   "source": [
    "X_prod_scaled = scaler.transform(X_prod)"
   ]
  },
  {
   "cell_type": "code",
   "execution_count": 29,
   "metadata": {},
   "outputs": [
    {
     "name": "stdout",
     "output_type": "stream",
     "text": [
      "Accuracy of NN: 97% (production test set)\n"
     ]
    }
   ],
   "source": [
    "NN_predictions_prod = clf_NN.predict(X_prod_scaled)\n",
    "print ('Accuracy of NN: %d' % float((np.dot(Y_prod,NN_predictions_prod) + np.dot(1-Y_prod,1-NN_predictions_prod))/float(Y_prod.size)*100) +'% ' + \"(production test set)\")"
   ]
  },
  {
   "cell_type": "code",
   "execution_count": 30,
   "metadata": {},
   "outputs": [
    {
     "data": {
      "text/plain": [
       "0.15303292571705104"
      ]
     },
     "execution_count": 30,
     "metadata": {},
     "output_type": "execute_result"
    }
   ],
   "source": [
    "sklearn.metrics.f1_score(Y_prod, NN_predictions_prod)"
   ]
  },
  {
   "cell_type": "code",
   "execution_count": 31,
   "metadata": {},
   "outputs": [
    {
     "data": {
      "text/plain": [
       "58.56125356125356"
      ]
     },
     "execution_count": 31,
     "metadata": {},
     "output_type": "execute_result"
    }
   ],
   "source": [
    "np.dot(Y_prod,NN_predictions_prod)/sum(Y_prod==1)*100."
   ]
  },
  {
   "cell_type": "code",
   "execution_count": 32,
   "metadata": {},
   "outputs": [
    {
     "data": {
      "text/plain": [
       "97.71259923069529"
      ]
     },
     "execution_count": 32,
     "metadata": {},
     "output_type": "execute_result"
    }
   ],
   "source": [
    "np.dot(1-Y_prod,1-NN_predictions_prod)/sum(Y_prod==0)*100."
   ]
  }
 ],
 "metadata": {
  "kernelspec": {
   "display_name": "Python 3",
   "language": "python",
   "name": "python3"
  },
  "language_info": {
   "codemirror_mode": {
    "name": "ipython",
    "version": 3
   },
   "file_extension": ".py",
   "mimetype": "text/x-python",
   "name": "python",
   "nbconvert_exporter": "python",
   "pygments_lexer": "ipython3",
   "version": "3.7.3"
  }
 },
 "nbformat": 4,
 "nbformat_minor": 2
}
